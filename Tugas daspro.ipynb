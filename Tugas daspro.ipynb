{
 "cells": [
  {
   "cell_type": "code",
   "execution_count": 1,
   "id": "ea8a6d61-9b94-4b29-a2c2-0964e91d4bf1",
   "metadata": {},
   "outputs": [
    {
     "name": "stdout",
     "output_type": "stream",
     "text": [
      "UKA ATNIC UMAK\n",
      "PYTHON HARI BELAJAR SEDANG INI\n",
      "Ak|_| C1nt4 K4m|_|\n",
      "4ku Cinta Kamu\n"
     ]
    }
   ],
   "source": [
    "# Function 1: Membalik setiap kata dalam kalimat tanpa mengubah urutan kata\n",
    "def reverse_per_kata(kalimat):\n",
    "    kata_kata = kalimat.split()  # Memisahkan kalimat menjadi list kata\n",
    "    hasil = []\n",
    "    for kata in kata_kata:\n",
    "        hasil.append(kata[::-1])  # Membalik tiap kata\n",
    "    return \" \".join(hasil)  # Menggabungkan kembali menjadi kalimat\n",
    "\n",
    "\n",
    "# Function 2: Mengurutkan kata-kata dalam kalimat berdasarkan indeks yang diberikan\n",
    "def urutkan_kalimat(kalimat, urutan):\n",
    "    kata_kata = kalimat.split()  # Memisahkan kalimat menjadi list kata\n",
    "    hasil = [\"\"] * len(urutan)  # Menyiapkan list kosong untuk hasil\n",
    "    for i in range(len(urutan)):\n",
    "        hasil[i] = kata_kata[urutan[i]-1]  # Mengisi hasil dengan kata berdasarkan urutan (dimulai dari 1)\n",
    "    return \" \".join(hasil)  # Menggabungkan kembali menjadi kalimat\n",
    "\n",
    "\n",
    "# Function 3: Mengganti huruf vokal berdasarkan opsi\n",
    "# Opsi 1 = vokal kecil, Opsi 2 = vokal kapital\n",
    "def ganti_vokal(kalimat, opsi):\n",
    "    hasil = \"\"\n",
    "    for huruf in kalimat:\n",
    "        if opsi == 1:  # Ganti vokal kecil\n",
    "            if huruf == 'a':\n",
    "                hasil += '4'\n",
    "            elif huruf == 'i':\n",
    "                hasil += '1'\n",
    "            elif huruf == 'u':\n",
    "                hasil += '|_|'\n",
    "            elif huruf == 'e':\n",
    "                hasil += '3'\n",
    "            elif huruf == 'o':\n",
    "                hasil += '0'\n",
    "            else:\n",
    "                hasil += huruf\n",
    "        elif opsi == 2:  # Ganti vokal kapital\n",
    "            if huruf == 'A':\n",
    "                hasil += '4'\n",
    "            elif huruf == 'I':\n",
    "                hasil += '1'\n",
    "            elif huruf == 'U':\n",
    "                hasil += '|_|'\n",
    "            elif huruf == 'E':\n",
    "                hasil += '3'\n",
    "            elif huruf == 'O':\n",
    "                hasil += '0'\n",
    "            else:\n",
    "                hasil += huruf\n",
    "    return hasil\n",
    "\n",
    "\n",
    "# Bagian uji coba (dijalankan hanya untuk menunjukkan hasil)\n",
    "print(reverse_per_kata(\"AKU CINTA KAMU\"))  # Output: \"UKA ATNIC UMAK\"\n",
    "\n",
    "print(urutkan_kalimat(\"HARI INI SEDANG BELAJAR PYTHON\", [5, 1, 4, 3, 2]))  # Output: \"PYTHON HARI BELAJAR SEDANG INI\"\n",
    "\n",
    "print(ganti_vokal(\"Aku Cinta Kamu\", 1))  # Output: \"Ak|_| C1nt4 K4m|_|\"\n",
    "\n",
    "print(ganti_vokal(\"Aku Cinta Kamu\", 2))  # Output: \"4ku Cinta K4mu\""
   ]
  },
  {
   "cell_type": "code",
   "execution_count": null,
   "id": "45694ad7-4832-458c-ba08-ea94c4588224",
   "metadata": {},
   "outputs": [],
   "source": []
  }
 ],
 "metadata": {
  "kernelspec": {
   "display_name": "Python [conda env:base] *",
   "language": "python",
   "name": "conda-base-py"
  },
  "language_info": {
   "codemirror_mode": {
    "name": "ipython",
    "version": 3
   },
   "file_extension": ".py",
   "mimetype": "text/x-python",
   "name": "python",
   "nbconvert_exporter": "python",
   "pygments_lexer": "ipython3",
   "version": "3.12.7"
  }
 },
 "nbformat": 4,
 "nbformat_minor": 5
}
